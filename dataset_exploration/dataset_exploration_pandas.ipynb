{
 "cells": [
  {
   "cell_type": "markdown",
   "metadata": {},
   "source": [
    "## Import modules"
   ]
  },
  {
   "cell_type": "code",
   "execution_count": 1,
   "metadata": {},
   "outputs": [
    {
     "name": "stderr",
     "output_type": "stream",
     "text": [
      "/home/z/pro/Computer_Vision_Project/venv/lib/python3.9/site-packages/tqdm/auto.py:22: TqdmWarning: IProgress not found. Please update jupyter and ipywidgets. See https://ipywidgets.readthedocs.io/en/stable/user_install.html\n",
      "  from .autonotebook import tqdm as notebook_tqdm\n"
     ]
    }
   ],
   "source": [
    "import collections\n",
    "import os\n",
    "import sys\n",
    "nb_dir = os.path.split(os.getcwd())[0]\n",
    "if nb_dir not in sys.path:\n",
    "    sys.path.append(nb_dir)\n",
    "from dataset_exploration.utils import create_histogram, read_annotation\n",
    "from configs.utils import get_dataset_dir\n",
    "import sys\n",
    "from analyze_stuff import get_config, get_dataloader"
   ]
  },
  {
   "cell_type": "markdown",
   "metadata": {},
   "source": [
    "## Load data"
   ]
  },
  {
   "cell_type": "code",
   "execution_count": 2,
   "metadata": {},
   "outputs": [],
   "source": [
    "config_path = \"../configs/tdt4265.py\"\n",
    "cfg = get_config(config_path)\n",
    "dataset_to_analyze = \"train\"  # or \"val\"\n",
    "dataloader = get_dataloader(cfg, dataset_to_analyze)"
   ]
  },
  {
   "cell_type": "markdown",
   "metadata": {},
   "source": [
    "# Using pandas"
   ]
  },
  {
   "cell_type": "markdown",
   "metadata": {},
   "source": [
    "## Annotation"
   ]
  },
  {
   "cell_type": "code",
   "execution_count": 44,
   "metadata": {},
   "outputs": [
    {
     "data": {
      "text/html": [
       "<div>\n",
       "<style scoped>\n",
       "    .dataframe tbody tr th:only-of-type {\n",
       "        vertical-align: middle;\n",
       "    }\n",
       "\n",
       "    .dataframe tbody tr th {\n",
       "        vertical-align: top;\n",
       "    }\n",
       "\n",
       "    .dataframe thead th {\n",
       "        text-align: right;\n",
       "    }\n",
       "</style>\n",
       "<table border=\"1\" class=\"dataframe\">\n",
       "  <thead>\n",
       "    <tr style=\"text-align: right;\">\n",
       "      <th></th>\n",
       "      <th>bbox</th>\n",
       "      <th>area</th>\n",
       "      <th>category_id</th>\n",
       "      <th>image_id</th>\n",
       "      <th>id_x</th>\n",
       "      <th>segmentation</th>\n",
       "      <th>iscrowd</th>\n",
       "      <th>name</th>\n",
       "      <th>id_y</th>\n",
       "      <th>supercategory</th>\n",
       "    </tr>\n",
       "  </thead>\n",
       "  <tbody>\n",
       "    <tr>\n",
       "      <th>0</th>\n",
       "      <td>[725.93, 63.64, 20.40000000000009, 13.73999999...</td>\n",
       "      <td>280.2960</td>\n",
       "      <td>1</td>\n",
       "      <td>1</td>\n",
       "      <td>1</td>\n",
       "      <td>[]</td>\n",
       "      <td>0</td>\n",
       "      <td>car</td>\n",
       "      <td>1</td>\n",
       "      <td></td>\n",
       "    </tr>\n",
       "    <tr>\n",
       "      <th>1</th>\n",
       "      <td>[107.8, 78.1, 37.3, 39.0]</td>\n",
       "      <td>1454.7000</td>\n",
       "      <td>1</td>\n",
       "      <td>1</td>\n",
       "      <td>5</td>\n",
       "      <td>[]</td>\n",
       "      <td>0</td>\n",
       "      <td>car</td>\n",
       "      <td>1</td>\n",
       "      <td></td>\n",
       "    </tr>\n",
       "    <tr>\n",
       "      <th>2</th>\n",
       "      <td>[206.4, 84.9, 32.0, 42.599999999999994]</td>\n",
       "      <td>1363.2000</td>\n",
       "      <td>1</td>\n",
       "      <td>1</td>\n",
       "      <td>6</td>\n",
       "      <td>[]</td>\n",
       "      <td>0</td>\n",
       "      <td>car</td>\n",
       "      <td>1</td>\n",
       "      <td></td>\n",
       "    </tr>\n",
       "    <tr>\n",
       "      <th>3</th>\n",
       "      <td>[730.6, 64.18, 20.539999999999964, 14.71999999...</td>\n",
       "      <td>302.3488</td>\n",
       "      <td>1</td>\n",
       "      <td>2</td>\n",
       "      <td>9</td>\n",
       "      <td>[]</td>\n",
       "      <td>0</td>\n",
       "      <td>car</td>\n",
       "      <td>1</td>\n",
       "      <td></td>\n",
       "    </tr>\n",
       "    <tr>\n",
       "      <th>4</th>\n",
       "      <td>[107.1, 79.04, 35.400000000000006, 37.75]</td>\n",
       "      <td>1336.3500</td>\n",
       "      <td>1</td>\n",
       "      <td>2</td>\n",
       "      <td>13</td>\n",
       "      <td>[]</td>\n",
       "      <td>0</td>\n",
       "      <td>car</td>\n",
       "      <td>1</td>\n",
       "      <td></td>\n",
       "    </tr>\n",
       "    <tr>\n",
       "      <th>...</th>\n",
       "      <td>...</td>\n",
       "      <td>...</td>\n",
       "      <td>...</td>\n",
       "      <td>...</td>\n",
       "      <td>...</td>\n",
       "      <td>...</td>\n",
       "      <td>...</td>\n",
       "      <td>...</td>\n",
       "      <td>...</td>\n",
       "      <td>...</td>\n",
       "    </tr>\n",
       "    <tr>\n",
       "      <th>18282</th>\n",
       "      <td>[613.29, 66.06, 22.350000000000023, 17.17]</td>\n",
       "      <td>383.7495</td>\n",
       "      <td>2</td>\n",
       "      <td>1238</td>\n",
       "      <td>15130</td>\n",
       "      <td>[]</td>\n",
       "      <td>0</td>\n",
       "      <td>truck</td>\n",
       "      <td>2</td>\n",
       "      <td></td>\n",
       "    </tr>\n",
       "    <tr>\n",
       "      <th>18283</th>\n",
       "      <td>[613.03, 65.27, 22.370000000000005, 17.3200000...</td>\n",
       "      <td>387.4484</td>\n",
       "      <td>2</td>\n",
       "      <td>1239</td>\n",
       "      <td>15149</td>\n",
       "      <td>[]</td>\n",
       "      <td>0</td>\n",
       "      <td>truck</td>\n",
       "      <td>2</td>\n",
       "      <td></td>\n",
       "    </tr>\n",
       "    <tr>\n",
       "      <th>18284</th>\n",
       "      <td>[612.77, 64.49, 22.399999999999977, 17.47]</td>\n",
       "      <td>391.3280</td>\n",
       "      <td>2</td>\n",
       "      <td>1240</td>\n",
       "      <td>15168</td>\n",
       "      <td>[]</td>\n",
       "      <td>0</td>\n",
       "      <td>truck</td>\n",
       "      <td>2</td>\n",
       "      <td></td>\n",
       "    </tr>\n",
       "    <tr>\n",
       "      <th>18285</th>\n",
       "      <td>[612.52, 63.71, 22.409999999999968, 17.6199999...</td>\n",
       "      <td>394.8642</td>\n",
       "      <td>2</td>\n",
       "      <td>1241</td>\n",
       "      <td>15188</td>\n",
       "      <td>[]</td>\n",
       "      <td>0</td>\n",
       "      <td>truck</td>\n",
       "      <td>2</td>\n",
       "      <td></td>\n",
       "    </tr>\n",
       "    <tr>\n",
       "      <th>18286</th>\n",
       "      <td>[612.26, 62.92, 22.440000000000055, 17.78]</td>\n",
       "      <td>398.9832</td>\n",
       "      <td>2</td>\n",
       "      <td>1242</td>\n",
       "      <td>15208</td>\n",
       "      <td>[]</td>\n",
       "      <td>0</td>\n",
       "      <td>truck</td>\n",
       "      <td>2</td>\n",
       "      <td></td>\n",
       "    </tr>\n",
       "  </tbody>\n",
       "</table>\n",
       "<p>18287 rows × 10 columns</p>\n",
       "</div>"
      ],
      "text/plain": [
       "                                                    bbox       area  \\\n",
       "0      [725.93, 63.64, 20.40000000000009, 13.73999999...   280.2960   \n",
       "1                              [107.8, 78.1, 37.3, 39.0]  1454.7000   \n",
       "2                [206.4, 84.9, 32.0, 42.599999999999994]  1363.2000   \n",
       "3      [730.6, 64.18, 20.539999999999964, 14.71999999...   302.3488   \n",
       "4              [107.1, 79.04, 35.400000000000006, 37.75]  1336.3500   \n",
       "...                                                  ...        ...   \n",
       "18282         [613.29, 66.06, 22.350000000000023, 17.17]   383.7495   \n",
       "18283  [613.03, 65.27, 22.370000000000005, 17.3200000...   387.4484   \n",
       "18284         [612.77, 64.49, 22.399999999999977, 17.47]   391.3280   \n",
       "18285  [612.52, 63.71, 22.409999999999968, 17.6199999...   394.8642   \n",
       "18286         [612.26, 62.92, 22.440000000000055, 17.78]   398.9832   \n",
       "\n",
       "       category_id  image_id   id_x segmentation  iscrowd   name  id_y  \\\n",
       "0                1         1      1           []        0    car     1   \n",
       "1                1         1      5           []        0    car     1   \n",
       "2                1         1      6           []        0    car     1   \n",
       "3                1         2      9           []        0    car     1   \n",
       "4                1         2     13           []        0    car     1   \n",
       "...            ...       ...    ...          ...      ...    ...   ...   \n",
       "18282            2      1238  15130           []        0  truck     2   \n",
       "18283            2      1239  15149           []        0  truck     2   \n",
       "18284            2      1240  15168           []        0  truck     2   \n",
       "18285            2      1241  15188           []        0  truck     2   \n",
       "18286            2      1242  15208           []        0  truck     2   \n",
       "\n",
       "      supercategory  \n",
       "0                    \n",
       "1                    \n",
       "2                    \n",
       "3                    \n",
       "4                    \n",
       "...             ...  \n",
       "18282                \n",
       "18283                \n",
       "18284                \n",
       "18285                \n",
       "18286                \n",
       "\n",
       "[18287 rows x 10 columns]"
      ]
     },
     "execution_count": 44,
     "metadata": {},
     "output_type": "execute_result"
    }
   ],
   "source": [
    "import pandas as pd\n",
    "\n",
    "training_data = read_annotation(get_dataset_dir(\"tdt4265_2022/train_annotations.json\"))\n",
    "adf = pd.DataFrame.from_records(pd.array(training_data[\"annotations\"]))\n",
    "cdf = pd.DataFrame.from_records(pd.array(training_data[\"categories\"]))\n",
    "df = adf.merge(cdf, left_on=\"category_id\", right_on=\"id\")\n",
    "df"
   ]
  },
  {
   "cell_type": "code",
   "execution_count": 31,
   "metadata": {},
   "outputs": [
    {
     "data": {
      "text/html": [
       "<div>\n",
       "<style scoped>\n",
       "    .dataframe tbody tr th:only-of-type {\n",
       "        vertical-align: middle;\n",
       "    }\n",
       "\n",
       "    .dataframe tbody tr th {\n",
       "        vertical-align: top;\n",
       "    }\n",
       "\n",
       "    .dataframe thead th {\n",
       "        text-align: right;\n",
       "    }\n",
       "</style>\n",
       "<table border=\"1\" class=\"dataframe\">\n",
       "  <thead>\n",
       "    <tr style=\"text-align: right;\">\n",
       "      <th></th>\n",
       "      <th>bbox</th>\n",
       "      <th>area</th>\n",
       "      <th>category_id</th>\n",
       "      <th>image_id</th>\n",
       "      <th>segmentation</th>\n",
       "      <th>iscrowd</th>\n",
       "      <th>name</th>\n",
       "      <th>id</th>\n",
       "      <th>supercategory</th>\n",
       "    </tr>\n",
       "  </thead>\n",
       "  <tbody>\n",
       "  </tbody>\n",
       "</table>\n",
       "</div>"
      ],
      "text/plain": [
       "Empty DataFrame\n",
       "Columns: [bbox, area, category_id, image_id, segmentation, iscrowd, name, id, supercategory]\n",
       "Index: []"
      ]
     },
     "execution_count": 31,
     "metadata": {},
     "output_type": "execute_result"
    }
   ],
   "source": [
    "# Check if there is any iscrowd\n",
    "df.loc[df['iscrowd'] == 1]"
   ]
  },
  {
   "cell_type": "code",
   "execution_count": 32,
   "metadata": {},
   "outputs": [
    {
     "data": {
      "text/html": [
       "<div>\n",
       "<style scoped>\n",
       "    .dataframe tbody tr th:only-of-type {\n",
       "        vertical-align: middle;\n",
       "    }\n",
       "\n",
       "    .dataframe tbody tr th {\n",
       "        vertical-align: top;\n",
       "    }\n",
       "\n",
       "    .dataframe thead th {\n",
       "        text-align: right;\n",
       "    }\n",
       "</style>\n",
       "<table border=\"1\" class=\"dataframe\">\n",
       "  <thead>\n",
       "    <tr style=\"text-align: right;\">\n",
       "      <th></th>\n",
       "      <th>bbox</th>\n",
       "      <th>area</th>\n",
       "      <th>category_id</th>\n",
       "      <th>image_id</th>\n",
       "      <th>segmentation</th>\n",
       "      <th>iscrowd</th>\n",
       "      <th>name</th>\n",
       "      <th>id</th>\n",
       "      <th>supercategory</th>\n",
       "    </tr>\n",
       "  </thead>\n",
       "  <tbody>\n",
       "  </tbody>\n",
       "</table>\n",
       "</div>"
      ],
      "text/plain": [
       "Empty DataFrame\n",
       "Columns: [bbox, area, category_id, image_id, segmentation, iscrowd, name, id, supercategory]\n",
       "Index: []"
      ]
     },
     "execution_count": 32,
     "metadata": {},
     "output_type": "execute_result"
    }
   ],
   "source": [
    "#Check if all bbox have a length of 4 elements\n",
    "df.loc[df['bbox'].str.len() != 4]"
   ]
  },
  {
   "cell_type": "code",
   "execution_count": 46,
   "metadata": {},
   "outputs": [
    {
     "data": {
      "text/plain": [
       "[Text(0, 0, '9563'),\n",
       " Text(0, 0, '4910'),\n",
       " Text(0, 0, '1588'),\n",
       " Text(0, 0, '1043'),\n",
       " Text(0, 0, '615'),\n",
       " Text(0, 0, '445'),\n",
       " Text(0, 0, '123')]"
      ]
     },
     "execution_count": 46,
     "metadata": {},
     "output_type": "execute_result"
    },
    {
     "data": {
      "image/png": "[encoded data removed]",
      "text/plain": [
       "<Figure size 432x288 with 1 Axes>"
      ]
     },
     "metadata": {
      "needs_background": "light"
     },
     "output_type": "display_data"
    }
   ],
   "source": [
    "ax = df.value_counts(df['name']).plot.bar()\n",
    "ax.bar_label(ax.containers[0])"
   ]
  },
  {
   "cell_type": "markdown",
   "metadata": {},
   "source": [
    "## Draw figure"
   ]
  },
  {
   "cell_type": "code",
   "execution_count": 79,
   "metadata": {},
   "outputs": [],
   "source": [
    "import numpy as np\n",
    "import matplotlib.pyplot as plt\n",
    "import matplotlib"
   ]
  },
  {
   "cell_type": "code",
   "execution_count": 80,
   "metadata": {},
   "outputs": [],
   "source": [
    "colors = {\n",
    "    \"car\": \"green\",\n",
    "    \"person\": \"blue\",\n",
    "    \"rider\": \"brown\",\n",
    "    \"bicycle\": \"pink\",\n",
    "    \"bus\": \"red\",\n",
    "    \"scooter\": \"black\",\n",
    "    \"truck\": \"yellow\"\n",
    "}"
   ]
  },
  {
   "cell_type": "code",
   "execution_count": null,
   "metadata": {},
   "outputs": [],
   "source": []
  }
 ],
 "metadata": {
  "interpreter": {
   "hash": "31f2aee4e71d21fbe5cf8b01ff0e069b9275f58929596ceb00d14d90e3e16cd6"
  },
  "kernelspec": {
   "display_name": "Python 3.8.9 64-bit",
   "language": "python",
   "name": "python3"
  },
  "language_info": {
   "codemirror_mode": {
    "name": "ipython",
    "version": 3
   },
   "file_extension": ".py",
   "mimetype": "text/x-python",
   "name": "python",
   "nbconvert_exporter": "python",
   "pygments_lexer": "ipython3",
   "version": "3.9.12"
  },
  "orig_nbformat": 4
 },
 "nbformat": 4,
 "nbformat_minor": 2
}
