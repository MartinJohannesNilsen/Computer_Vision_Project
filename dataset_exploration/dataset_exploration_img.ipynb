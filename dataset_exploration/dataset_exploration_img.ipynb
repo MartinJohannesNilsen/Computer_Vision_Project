{
 "cells": [
  {
   "cell_type": "markdown",
   "metadata": {},
   "source": [
    "## Import modules"
   ]
  },
  {
   "cell_type": "code",
   "execution_count": 1,
   "metadata": {},
   "outputs": [
    {
     "name": "stderr",
     "output_type": "stream",
     "text": [
      "/home/z/pro/Computer_Vision_Project/venv/lib/python3.9/site-packages/tqdm/auto.py:22: TqdmWarning: IProgress not found. Please update jupyter and ipywidgets. See https://ipywidgets.readthedocs.io/en/stable/user_install.html\n",
      "  from .autonotebook import tqdm as notebook_tqdm\n"
     ]
    }
   ],
   "source": [
    "import collections\n",
    "import os\n",
    "import sys\n",
    "nb_dir = os.path.split(os.getcwd())[0]\n",
    "if nb_dir not in sys.path:\n",
    "    sys.path.append(nb_dir)\n",
    "from dataset_exploration.utils import create_histogram, read_annotation\n",
    "from configs.utils import get_dataset_dir\n",
    "import sys\n",
    "from analyze_stuff import get_config, get_dataloader\n",
    "from vizer.draw import draw_boxes\n",
    "from ssd import utils\n",
    "from tqdm import tqdm\n",
    "import cv2\n",
    "import numpy as np"
   ]
  },
  {
   "cell_type": "markdown",
   "metadata": {},
   "source": [
    "## Load data"
   ]
  },
  {
   "cell_type": "markdown",
   "metadata": {},
   "source": [
    "# Using pandas"
   ]
  },
  {
   "cell_type": "markdown",
   "metadata": {},
   "source": [
    "## Image analyzer"
   ]
  },
  {
   "cell_type": "code",
   "execution_count": 2,
   "metadata": {},
   "outputs": [],
   "source": [
    "def convert_boxes_coords_to_pixel_coords(boxes, width, height):\n",
    "    boxes_for_first_image = boxes[0]  # This is the only image in batch\n",
    "    boxes_for_first_image[:, [0, 2]] *= width\n",
    "    boxes_for_first_image[:, [1, 3]] *= height\n",
    "    return boxes_for_first_image.cpu().numpy()\n",
    "\n",
    "\n",
    "def convert_image_to_hwc_byte(image, rgb):\n",
    "    first_image_in_batch = image[0].clone().detach()  # This is the only image in batch\n",
    "    if rgb != None:\n",
    "        if rgb == 0:\n",
    "            first_image_in_batch[1] = first_image_in_batch[rgb]\n",
    "            first_image_in_batch[2] = first_image_in_batch[rgb]\n",
    "        if rgb == 1:\n",
    "            first_image_in_batch[0] = first_image_in_batch[rgb]\n",
    "            first_image_in_batch[2] = first_image_in_batch[rgb]\n",
    "        if rgb == 2:\n",
    "            first_image_in_batch[1] = first_image_in_batch[rgb]\n",
    "            first_image_in_batch[0] = first_image_in_batch[rgb]\n",
    "    image_pixel_values = (first_image_in_batch * 255).byte()\n",
    "    image_h_w_c_format = image_pixel_values.permute(1, 2, 0)\n",
    "\n",
    "    return image_h_w_c_format.cpu().numpy()\n",
    "\n",
    "\n",
    "def visualize_boxes_on_image(batch, label_map, rgb):\n",
    "    image = convert_image_to_hwc_byte(batch[\"image\"], rgb)\n",
    "    boxes = convert_boxes_coords_to_pixel_coords(batch[\"boxes\"], batch[\"width\"], batch[\"height\"])\n",
    "    labels = batch[\"labels\"][0].cpu().numpy().tolist()\n",
    "\n",
    "    image_with_boxes = draw_boxes(image, boxes, labels, class_name_map=label_map)\n",
    "    return image_with_boxes\n",
    "\n",
    "\n",
    "def create_viz_image(batch, label_map):\n",
    "    image = visualize_boxes_on_image(batch, label_map, None)\n",
    "    image_r = visualize_boxes_on_image(batch, label_map, 0)\n",
    "    image_g = visualize_boxes_on_image(batch, label_map, 1)\n",
    "    image_b = visualize_boxes_on_image(batch, label_map, 2)\n",
    "\n",
    "    # We concatinate in the height axis, so that the images are placed on top of\n",
    "    # each other\n",
    "    concatinated_image = np.concatenate([\n",
    "        image,\n",
    "        image_b,\n",
    "        image_r,\n",
    "        image_g,\n",
    "    ], axis=0)\n",
    "    return concatinated_image\n",
    "\n",
    "\n",
    "def create_filepath(save_folder, image_id):\n",
    "    filename = \"image_\" + str(image_id) + \".png\"\n",
    "    return os.path.join(save_folder, filename)\n",
    "\n",
    "\n",
    "def save_images(dataloader, cfg, save_folder, num_images_to_visualize):\n",
    "    if not os.path.exists(save_folder):\n",
    "        os.makedirs(save_folder)\n",
    "\n",
    "    print(\"Saving images to\", save_folder)\n",
    "\n",
    "    num_images_to_save = min(len(dataloader), num_images_to_visualize)\n",
    "    dataloader = iter(dataloader)\n",
    "\n",
    "    for i in tqdm(range(num_images_to_save)):\n",
    "        batch = next(dataloader)\n",
    "        viz_image = create_viz_image(batch, cfg.label_map)\n",
    "        filepath = create_filepath(save_folder, i)\n",
    "        # viz_image = cv2.cvtColor(viz_image, cv2.COLOR_BGR2RGB)\n",
    "        cv2.imwrite(filepath, viz_image)"
   ]
  },
  {
   "cell_type": "code",
   "execution_count": 3,
   "metadata": {},
   "outputs": [
    {
     "name": "stdout",
     "output_type": "stream",
     "text": [
      "Saving images to red_images\n"
     ]
    },
    {
     "name": "stderr",
     "output_type": "stream",
     "text": [
      "100%|██████████| 200/200 [01:36<00:00,  2.08it/s]\n"
     ]
    }
   ],
   "source": [
    "config_path = \"../configs/tdt4265.py\"\n",
    "cfg = get_config(config_path)\n",
    "dataset_to_analyze = \"train\"  # or \"val\"\n",
    "dataloader = get_dataloader(cfg, dataset_to_analyze)\n",
    "\n",
    "num_images_to_visualize = 200\n",
    "save_folder = os.path.join(\"red_images\")\n",
    "save_images(dataloader, cfg, save_folder, num_images_to_visualize)\n"
   ]
  }
 ],
 "metadata": {
  "interpreter": {
   "hash": "31f2aee4e71d21fbe5cf8b01ff0e069b9275f58929596ceb00d14d90e3e16cd6"
  },
  "kernelspec": {
   "display_name": "Python 3.8.9 64-bit",
   "language": "python",
   "name": "python3"
  },
  "language_info": {
   "codemirror_mode": {
    "name": "ipython",
    "version": 3
   },
   "file_extension": ".py",
   "mimetype": "text/x-python",
   "name": "python",
   "nbconvert_exporter": "python",
   "pygments_lexer": "ipython3",
   "version": "3.9.12"
  },
  "orig_nbformat": 4
 },
 "nbformat": 4,
 "nbformat_minor": 2
}
