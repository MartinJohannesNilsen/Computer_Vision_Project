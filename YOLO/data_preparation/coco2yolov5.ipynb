{
  "cells": [
    {
      "cell_type": "markdown",
      "metadata": {
        "id": "Cxi8K9mXwl5t"
      },
      "source": [
        "# Convert Coco JSON Annotations to YOLO TXT Files\n",
        "Use this notebook to try out importing, analyzing, and exporting datasets of image annotations. "
      ]
    },
    {
      "cell_type": "markdown",
      "metadata": {},
      "source": [
        "### NB! Make sure to have renamed images and img_filename in annotations to correct format first"
      ]
    },
    {
      "cell_type": "code",
      "execution_count": 1,
      "metadata": {},
      "outputs": [
        {
          "name": "stdout",
          "output_type": "stream",
          "text": [
            "Defaulting to user installation because normal site-packages is not writeable\n",
            "Requirement already satisfied: pylabel in /home/martijni/.local/lib/python3.8/site-packages (0.1.39)\n",
            "Requirement already satisfied: opencv-python in /home/martijni/.local/lib/python3.8/site-packages (from pylabel) (4.5.5.64)\n",
            "Requirement already satisfied: pyyaml in /usr/lib/python3/dist-packages (from pylabel) (5.3.1)\n",
            "Requirement already satisfied: scikit-learn in /usr/local/lib/python3.8/dist-packages (from pylabel) (0.24.2)\n",
            "Requirement already satisfied: matplotlib in /usr/local/lib/python3.8/dist-packages (from pylabel) (3.4.2)\n",
            "Requirement already satisfied: jupyter-bbox-widget in /home/martijni/.local/lib/python3.8/site-packages (from pylabel) (0.4.0)\n",
            "Requirement already satisfied: bbox-visualizer in /home/martijni/.local/lib/python3.8/site-packages (from pylabel) (0.1.0)\n",
            "Requirement already satisfied: pandas in /home/martijni/.local/lib/python3.8/site-packages (from pylabel) (1.4.2)\n",
            "Requirement already satisfied: ipywidgets>=7.0.0 in /home/martijni/.local/lib/python3.8/site-packages (from jupyter-bbox-widget->pylabel) (7.6.5)\n",
            "Requirement already satisfied: traitlets>=4.3.1 in /home/martijni/.local/lib/python3.8/site-packages (from ipywidgets>=7.0.0->jupyter-bbox-widget->pylabel) (5.1.1)\n",
            "Requirement already satisfied: ipython>=4.0.0 in /home/martijni/.local/lib/python3.8/site-packages (from ipywidgets>=7.0.0->jupyter-bbox-widget->pylabel) (8.1.1)\n",
            "Requirement already satisfied: nbformat>=4.2.0 in /usr/local/lib/python3.8/dist-packages (from ipywidgets>=7.0.0->jupyter-bbox-widget->pylabel) (5.1.3)\n",
            "Requirement already satisfied: jupyterlab-widgets>=1.0.0 in /home/martijni/.local/lib/python3.8/site-packages (from ipywidgets>=7.0.0->jupyter-bbox-widget->pylabel) (1.0.2)\n",
            "Requirement already satisfied: ipykernel>=4.5.1 in /home/martijni/.local/lib/python3.8/site-packages (from ipywidgets>=7.0.0->jupyter-bbox-widget->pylabel) (6.9.2)\n",
            "Requirement already satisfied: ipython-genutils~=0.2.0 in /usr/local/lib/python3.8/dist-packages (from ipywidgets>=7.0.0->jupyter-bbox-widget->pylabel) (0.2.0)\n",
            "Requirement already satisfied: widgetsnbextension~=3.5.0 in /home/martijni/.local/lib/python3.8/site-packages (from ipywidgets>=7.0.0->jupyter-bbox-widget->pylabel) (3.5.2)\n",
            "Requirement already satisfied: nest-asyncio in /home/martijni/.local/lib/python3.8/site-packages (from ipykernel>=4.5.1->ipywidgets>=7.0.0->jupyter-bbox-widget->pylabel) (1.5.4)\n",
            "Requirement already satisfied: debugpy<2.0,>=1.0.0 in /home/martijni/.local/lib/python3.8/site-packages (from ipykernel>=4.5.1->ipywidgets>=7.0.0->jupyter-bbox-widget->pylabel) (1.6.0)\n",
            "Requirement already satisfied: matplotlib-inline<0.2.0,>=0.1.0 in /home/martijni/.local/lib/python3.8/site-packages (from ipykernel>=4.5.1->ipywidgets>=7.0.0->jupyter-bbox-widget->pylabel) (0.1.3)\n",
            "Requirement already satisfied: tornado<7.0,>=4.2 in /home/martijni/.local/lib/python3.8/site-packages (from ipykernel>=4.5.1->ipywidgets>=7.0.0->jupyter-bbox-widget->pylabel) (6.1)\n",
            "Requirement already satisfied: jupyter-client<8.0 in /home/martijni/.local/lib/python3.8/site-packages (from ipykernel>=4.5.1->ipywidgets>=7.0.0->jupyter-bbox-widget->pylabel) (7.1.2)\n",
            "Requirement already satisfied: psutil in /home/martijni/.local/lib/python3.8/site-packages (from ipykernel>=4.5.1->ipywidgets>=7.0.0->jupyter-bbox-widget->pylabel) (5.9.0)\n",
            "Requirement already satisfied: setuptools>=18.5 in /usr/lib/python3/dist-packages (from ipython>=4.0.0->ipywidgets>=7.0.0->jupyter-bbox-widget->pylabel) (45.2.0)\n",
            "Requirement already satisfied: prompt-toolkit!=3.0.0,!=3.0.1,<3.1.0,>=2.0.0 in /home/martijni/.local/lib/python3.8/site-packages (from ipython>=4.0.0->ipywidgets>=7.0.0->jupyter-bbox-widget->pylabel) (3.0.28)\n",
            "Requirement already satisfied: pexpect>4.3 in /usr/lib/python3/dist-packages (from ipython>=4.0.0->ipywidgets>=7.0.0->jupyter-bbox-widget->pylabel) (4.6.0)\n",
            "Requirement already satisfied: backcall in /home/martijni/.local/lib/python3.8/site-packages (from ipython>=4.0.0->ipywidgets>=7.0.0->jupyter-bbox-widget->pylabel) (0.2.0)\n",
            "Requirement already satisfied: pickleshare in /home/martijni/.local/lib/python3.8/site-packages (from ipython>=4.0.0->ipywidgets>=7.0.0->jupyter-bbox-widget->pylabel) (0.7.5)\n",
            "Requirement already satisfied: stack-data in /home/martijni/.local/lib/python3.8/site-packages (from ipython>=4.0.0->ipywidgets>=7.0.0->jupyter-bbox-widget->pylabel) (0.2.0)\n",
            "Requirement already satisfied: pygments>=2.4.0 in /home/martijni/.local/lib/python3.8/site-packages (from ipython>=4.0.0->ipywidgets>=7.0.0->jupyter-bbox-widget->pylabel) (2.11.2)\n",
            "Requirement already satisfied: decorator in /home/martijni/.local/lib/python3.8/site-packages (from ipython>=4.0.0->ipywidgets>=7.0.0->jupyter-bbox-widget->pylabel) (5.1.1)\n",
            "Requirement already satisfied: jedi>=0.16 in /home/martijni/.local/lib/python3.8/site-packages (from ipython>=4.0.0->ipywidgets>=7.0.0->jupyter-bbox-widget->pylabel) (0.18.1)\n",
            "Requirement already satisfied: parso<0.9.0,>=0.8.0 in /home/martijni/.local/lib/python3.8/site-packages (from jedi>=0.16->ipython>=4.0.0->ipywidgets>=7.0.0->jupyter-bbox-widget->pylabel) (0.8.3)\n",
            "Requirement already satisfied: pyzmq>=13 in /home/martijni/.local/lib/python3.8/site-packages (from jupyter-client<8.0->ipykernel>=4.5.1->ipywidgets>=7.0.0->jupyter-bbox-widget->pylabel) (22.3.0)\n",
            "Requirement already satisfied: jupyter-core>=4.6.0 in /home/martijni/.local/lib/python3.8/site-packages (from jupyter-client<8.0->ipykernel>=4.5.1->ipywidgets>=7.0.0->jupyter-bbox-widget->pylabel) (4.9.2)\n",
            "Requirement already satisfied: python-dateutil>=2.1 in /home/martijni/.local/lib/python3.8/site-packages (from jupyter-client<8.0->ipykernel>=4.5.1->ipywidgets>=7.0.0->jupyter-bbox-widget->pylabel) (2.8.2)\n",
            "Requirement already satisfied: entrypoints in /usr/lib/python3/dist-packages (from jupyter-client<8.0->ipykernel>=4.5.1->ipywidgets>=7.0.0->jupyter-bbox-widget->pylabel) (0.3)\n",
            "Requirement already satisfied: jsonschema!=2.5.0,>=2.4 in /usr/lib/python3/dist-packages (from nbformat>=4.2.0->ipywidgets>=7.0.0->jupyter-bbox-widget->pylabel) (3.2.0)\n",
            "Requirement already satisfied: wcwidth in /home/martijni/.local/lib/python3.8/site-packages (from prompt-toolkit!=3.0.0,!=3.0.1,<3.1.0,>=2.0.0->ipython>=4.0.0->ipywidgets>=7.0.0->jupyter-bbox-widget->pylabel) (0.2.5)\n",
            "Requirement already satisfied: six>=1.5 in /usr/local/lib/python3.8/dist-packages (from python-dateutil>=2.1->jupyter-client<8.0->ipykernel>=4.5.1->ipywidgets>=7.0.0->jupyter-bbox-widget->pylabel) (1.15.0)\n",
            "Requirement already satisfied: notebook>=4.4.1 in /usr/local/lib/python3.8/dist-packages (from widgetsnbextension~=3.5.0->ipywidgets>=7.0.0->jupyter-bbox-widget->pylabel) (6.4.0)\n",
            "Requirement already satisfied: Send2Trash>=1.5.0 in /usr/local/lib/python3.8/dist-packages (from notebook>=4.4.1->widgetsnbextension~=3.5.0->ipywidgets>=7.0.0->jupyter-bbox-widget->pylabel) (1.7.1)\n",
            "Requirement already satisfied: jinja2 in /usr/local/lib/python3.8/dist-packages (from notebook>=4.4.1->widgetsnbextension~=3.5.0->ipywidgets>=7.0.0->jupyter-bbox-widget->pylabel) (3.0.1)\n",
            "Requirement already satisfied: nbconvert in /usr/local/lib/python3.8/dist-packages (from notebook>=4.4.1->widgetsnbextension~=3.5.0->ipywidgets>=7.0.0->jupyter-bbox-widget->pylabel) (6.1.0)\n",
            "Requirement already satisfied: prometheus-client in /usr/local/lib/python3.8/dist-packages (from notebook>=4.4.1->widgetsnbextension~=3.5.0->ipywidgets>=7.0.0->jupyter-bbox-widget->pylabel) (0.11.0)\n",
            "Requirement already satisfied: terminado>=0.8.3 in /usr/local/lib/python3.8/dist-packages (from notebook>=4.4.1->widgetsnbextension~=3.5.0->ipywidgets>=7.0.0->jupyter-bbox-widget->pylabel) (0.10.1)\n",
            "Requirement already satisfied: argon2-cffi in /usr/local/lib/python3.8/dist-packages (from notebook>=4.4.1->widgetsnbextension~=3.5.0->ipywidgets>=7.0.0->jupyter-bbox-widget->pylabel) (20.1.0)\n",
            "Requirement already satisfied: ptyprocess in /usr/local/lib/python3.8/dist-packages (from terminado>=0.8.3->notebook>=4.4.1->widgetsnbextension~=3.5.0->ipywidgets>=7.0.0->jupyter-bbox-widget->pylabel) (0.7.0)\n",
            "Requirement already satisfied: cffi>=1.0.0 in /usr/local/lib/python3.8/dist-packages (from argon2-cffi->notebook>=4.4.1->widgetsnbextension~=3.5.0->ipywidgets>=7.0.0->jupyter-bbox-widget->pylabel) (1.14.6)\n",
            "Requirement already satisfied: pycparser in /usr/local/lib/python3.8/dist-packages (from cffi>=1.0.0->argon2-cffi->notebook>=4.4.1->widgetsnbextension~=3.5.0->ipywidgets>=7.0.0->jupyter-bbox-widget->pylabel) (2.20)\n",
            "Requirement already satisfied: MarkupSafe>=2.0 in /usr/local/lib/python3.8/dist-packages (from jinja2->notebook>=4.4.1->widgetsnbextension~=3.5.0->ipywidgets>=7.0.0->jupyter-bbox-widget->pylabel) (2.0.1)\n",
            "Requirement already satisfied: kiwisolver>=1.0.1 in /usr/local/lib/python3.8/dist-packages (from matplotlib->pylabel) (1.3.1)\n",
            "Requirement already satisfied: pillow>=6.2.0 in /home/martijni/.local/lib/python3.8/site-packages (from matplotlib->pylabel) (9.1.0)\n",
            "Requirement already satisfied: cycler>=0.10 in /usr/local/lib/python3.8/dist-packages (from matplotlib->pylabel) (0.10.0)\n",
            "Requirement already satisfied: numpy>=1.16 in /home/martijni/.local/lib/python3.8/site-packages (from matplotlib->pylabel) (1.22.3)\n",
            "Requirement already satisfied: pyparsing>=2.2.1 in /usr/lib/python3/dist-packages (from matplotlib->pylabel) (2.4.6)\n",
            "Requirement already satisfied: jupyterlab-pygments in /usr/local/lib/python3.8/dist-packages (from nbconvert->notebook>=4.4.1->widgetsnbextension~=3.5.0->ipywidgets>=7.0.0->jupyter-bbox-widget->pylabel) (0.1.2)\n",
            "Requirement already satisfied: bleach in /usr/local/lib/python3.8/dist-packages (from nbconvert->notebook>=4.4.1->widgetsnbextension~=3.5.0->ipywidgets>=7.0.0->jupyter-bbox-widget->pylabel) (4.0.0)\n",
            "Requirement already satisfied: pandocfilters>=1.4.1 in /usr/local/lib/python3.8/dist-packages (from nbconvert->notebook>=4.4.1->widgetsnbextension~=3.5.0->ipywidgets>=7.0.0->jupyter-bbox-widget->pylabel) (1.4.3)\n",
            "Requirement already satisfied: mistune<2,>=0.8.1 in /usr/local/lib/python3.8/dist-packages (from nbconvert->notebook>=4.4.1->widgetsnbextension~=3.5.0->ipywidgets>=7.0.0->jupyter-bbox-widget->pylabel) (0.8.4)\n",
            "Requirement already satisfied: nbclient<0.6.0,>=0.5.0 in /usr/local/lib/python3.8/dist-packages (from nbconvert->notebook>=4.4.1->widgetsnbextension~=3.5.0->ipywidgets>=7.0.0->jupyter-bbox-widget->pylabel) (0.5.3)\n",
            "Requirement already satisfied: testpath in /usr/local/lib/python3.8/dist-packages (from nbconvert->notebook>=4.4.1->widgetsnbextension~=3.5.0->ipywidgets>=7.0.0->jupyter-bbox-widget->pylabel) (0.5.0)\n",
            "Requirement already satisfied: defusedxml in /usr/local/lib/python3.8/dist-packages (from nbconvert->notebook>=4.4.1->widgetsnbextension~=3.5.0->ipywidgets>=7.0.0->jupyter-bbox-widget->pylabel) (0.7.1)\n",
            "Requirement already satisfied: async-generator in /usr/local/lib/python3.8/dist-packages (from nbclient<0.6.0,>=0.5.0->nbconvert->notebook>=4.4.1->widgetsnbextension~=3.5.0->ipywidgets>=7.0.0->jupyter-bbox-widget->pylabel) (1.10)\n",
            "Requirement already satisfied: packaging in /usr/lib/python3/dist-packages (from bleach->nbconvert->notebook>=4.4.1->widgetsnbextension~=3.5.0->ipywidgets>=7.0.0->jupyter-bbox-widget->pylabel) (20.3)\n",
            "Requirement already satisfied: webencodings in /usr/local/lib/python3.8/dist-packages (from bleach->nbconvert->notebook>=4.4.1->widgetsnbextension~=3.5.0->ipywidgets>=7.0.0->jupyter-bbox-widget->pylabel) (0.5.1)\n",
            "Requirement already satisfied: pytz>=2020.1 in /home/martijni/.local/lib/python3.8/site-packages (from pandas->pylabel) (2022.1)\n",
            "Requirement already satisfied: threadpoolctl>=2.0.0 in /usr/local/lib/python3.8/dist-packages (from scikit-learn->pylabel) (2.2.0)\n",
            "Requirement already satisfied: scipy>=0.19.1 in /usr/local/lib/python3.8/dist-packages (from scikit-learn->pylabel) (1.7.1)\n",
            "Requirement already satisfied: joblib>=0.11 in /usr/local/lib/python3.8/dist-packages (from scikit-learn->pylabel) (1.0.1)\n",
            "Requirement already satisfied: asttokens in /home/martijni/.local/lib/python3.8/site-packages (from stack-data->ipython>=4.0.0->ipywidgets>=7.0.0->jupyter-bbox-widget->pylabel) (2.0.5)\n",
            "Requirement already satisfied: executing in /home/martijni/.local/lib/python3.8/site-packages (from stack-data->ipython>=4.0.0->ipywidgets>=7.0.0->jupyter-bbox-widget->pylabel) (0.8.3)\n",
            "Requirement already satisfied: pure-eval in /home/martijni/.local/lib/python3.8/site-packages (from stack-data->ipython>=4.0.0->ipywidgets>=7.0.0->jupyter-bbox-widget->pylabel) (0.2.2)\n",
            "\u001b[33mWARNING: You are using pip version 21.2.4; however, version 22.0.4 is available.\n",
            "You should consider upgrading via the '/usr/bin/python3 -m pip install --upgrade pip' command.\u001b[0m\n"
          ]
        }
      ],
      "source": [
        "import logging\n",
        "logging.getLogger().setLevel(logging.CRITICAL)\n",
        "import sys\n",
        "!{sys.executable} -m pip install pylabel\n",
        "from pylabel import importer"
      ]
    },
    {
      "cell_type": "markdown",
      "metadata": {},
      "source": [
        "# YOLO Format"
      ]
    },
    {
      "cell_type": "markdown",
      "metadata": {},
      "source": [
        "All the bounding boxes are placed in a `.txt`-file for each image in the dataset.\n",
        "\n",
        "The order of attributes in each row is ```[class x_centered y_centered width height]```, where all of the values are normalized in the range of [0...1]\n",
        "\n",
        "The centered values is the center values in both width (x) and height (y) direction, and the width and height tell the size of the bounding box.\n",
        "\n",
        "An example of such a file:\n",
        "```\n",
        "0 0.0172 0.8358 0.0315 0.0347\n",
        "0 0.1301 0.9474 0.0441 0.0490\n",
        "0 0.1054 0.9319 0.0936 0.0891\n",
        "0 0.0275 0.9392 0.0308 0.0311\n",
        "```\n"
      ]
    },
    {
      "cell_type": "markdown",
      "metadata": {},
      "source": [
        "## Import coco annotations \n",
        "First we will import annotations from the coco dataset, which are in coco json format. "
      ]
    },
    {
      "cell_type": "code",
      "execution_count": 2,
      "metadata": {},
      "outputs": [
        {
          "data": {
            "text/html": [
              "<div>\n",
              "<style scoped>\n",
              "    .dataframe tbody tr th:only-of-type {\n",
              "        vertical-align: middle;\n",
              "    }\n",
              "\n",
              "    .dataframe tbody tr th {\n",
              "        vertical-align: top;\n",
              "    }\n",
              "\n",
              "    .dataframe thead th {\n",
              "        text-align: right;\n",
              "    }\n",
              "</style>\n",
              "<table border=\"1\" class=\"dataframe\">\n",
              "  <thead>\n",
              "    <tr style=\"text-align: right;\">\n",
              "      <th></th>\n",
              "      <th>img_folder</th>\n",
              "      <th>img_filename</th>\n",
              "      <th>img_path</th>\n",
              "      <th>img_id</th>\n",
              "      <th>img_width</th>\n",
              "      <th>img_height</th>\n",
              "      <th>img_depth</th>\n",
              "      <th>ann_segmented</th>\n",
              "      <th>ann_bbox_xmin</th>\n",
              "      <th>ann_bbox_ymin</th>\n",
              "      <th>...</th>\n",
              "      <th>ann_segmentation</th>\n",
              "      <th>ann_iscrowd</th>\n",
              "      <th>ann_pose</th>\n",
              "      <th>ann_truncated</th>\n",
              "      <th>ann_difficult</th>\n",
              "      <th>cat_id</th>\n",
              "      <th>cat_name</th>\n",
              "      <th>cat_supercategory</th>\n",
              "      <th>split</th>\n",
              "      <th>annotated</th>\n",
              "    </tr>\n",
              "    <tr>\n",
              "      <th>id</th>\n",
              "      <th></th>\n",
              "      <th></th>\n",
              "      <th></th>\n",
              "      <th></th>\n",
              "      <th></th>\n",
              "      <th></th>\n",
              "      <th></th>\n",
              "      <th></th>\n",
              "      <th></th>\n",
              "      <th></th>\n",
              "      <th></th>\n",
              "      <th></th>\n",
              "      <th></th>\n",
              "      <th></th>\n",
              "      <th></th>\n",
              "      <th></th>\n",
              "      <th></th>\n",
              "      <th></th>\n",
              "      <th></th>\n",
              "      <th></th>\n",
              "      <th></th>\n",
              "    </tr>\n",
              "  </thead>\n",
              "  <tbody>\n",
              "    <tr>\n",
              "      <th>0</th>\n",
              "      <td>../datasets/tdt4265/images/train</td>\n",
              "      <td>images/val/trip007_glos_Video00003_54.png</td>\n",
              "      <td></td>\n",
              "      <td>1</td>\n",
              "      <td>1024</td>\n",
              "      <td>128</td>\n",
              "      <td></td>\n",
              "      <td></td>\n",
              "      <td>1020.42</td>\n",
              "      <td>65.4</td>\n",
              "      <td>...</td>\n",
              "      <td>[]</td>\n",
              "      <td>0</td>\n",
              "      <td></td>\n",
              "      <td></td>\n",
              "      <td></td>\n",
              "      <td>1</td>\n",
              "      <td>car</td>\n",
              "      <td></td>\n",
              "      <td></td>\n",
              "      <td>1</td>\n",
              "    </tr>\n",
              "  </tbody>\n",
              "</table>\n",
              "<p>1 rows × 25 columns</p>\n",
              "</div>"
            ],
            "text/plain": [
              "                          img_folder  \\\n",
              "id                                     \n",
              "0   ../datasets/tdt4265/images/train   \n",
              "\n",
              "                                 img_filename img_path  img_id  img_width  \\\n",
              "id                                                                          \n",
              "0   images/val/trip007_glos_Video00003_54.png                1       1024   \n",
              "\n",
              "    img_height img_depth ann_segmented  ann_bbox_xmin  ann_bbox_ymin  ...  \\\n",
              "id                                                                    ...   \n",
              "0          128                                1020.42           65.4  ...   \n",
              "\n",
              "    ann_segmentation  ann_iscrowd  ann_pose  ann_truncated  ann_difficult  \\\n",
              "id                                                                          \n",
              "0                 []            0                                           \n",
              "\n",
              "   cat_id  cat_name cat_supercategory split annotated  \n",
              "id                                                     \n",
              "0       1       car                                 1  \n",
              "\n",
              "[1 rows x 25 columns]"
            ]
          },
          "execution_count": 2,
          "metadata": {},
          "output_type": "execute_result"
        }
      ],
      "source": [
        "#Specify path to the coco.json file and images, if in another folder than annotations\n",
        "TRAIN = False\n",
        "dataset_path = \"../datasets/tdt4265\"\n",
        "if TRAIN:\n",
        "    path_to_annotations = \"./original_annotations_json/train_annotations.json\"\n",
        "    path_to_images = os.path.join(dataset_path, \"images/train\")\n",
        "else:\n",
        "    path_to_annotations = \"./original_annotations_json/val_annotations.json\"\n",
        "    path_to_images = os.path.join(dataset_path, \"images/train\")\n",
        "\n",
        "#Import the dataset into the pylable schema \n",
        "dataset = importer.ImportCoco(path_to_annotations, path_to_images=path_to_images, name=\"labeled_data_coco_format\")\n",
        "dataset.df.head(1)"
      ]
    },
    {
      "cell_type": "markdown",
      "metadata": {},
      "source": [
        "## Analyze annotations\n",
        "Pylabel can calculate basic summary statisticts about the dataset such as the number of files and the classes. \n",
        "The dataset is stored as a pandas frame so the developer can do additional exploratory analysis on the dataset. "
      ]
    },
    {
      "cell_type": "code",
      "execution_count": 3,
      "metadata": {
        "colab": {
          "base_uri": "https://localhost:8080/"
        },
        "id": "5R1rOJVL420b",
        "outputId": "ae94525b-c6d5-4a4f-d56d-7f1bd29a7411"
      },
      "outputs": [
        {
          "name": "stdout",
          "output_type": "stream",
          "text": [
            "Number of images: 301\n",
            "Number of classes: 4\n",
            "Classes:['car', 'bus', 'person', 'rider']\n",
            "Class counts:\n",
            "person    3699\n",
            "car       1437\n",
            "rider      315\n",
            "bus         93\n",
            "Name: cat_name, dtype: int64\n",
            "Path to annotations:\n",
            "original_annotations_json\n"
          ]
        }
      ],
      "source": [
        "print(f\"Number of images: {dataset.analyze.num_images}\")\n",
        "print(f\"Number of classes: {dataset.analyze.num_classes}\")\n",
        "print(f\"Classes:{dataset.analyze.classes}\")\n",
        "print(f\"Class counts:\\n{dataset.analyze.class_counts}\")\n",
        "print(f\"Path to annotations:\\n{dataset.path_to_annotations}\")\n"
      ]
    },
    {
      "cell_type": "markdown",
      "metadata": {},
      "source": [
        "## Visualize Annotations \n",
        "You can render the bounding boxes for your image to inspect them and confirm that they imported correctly.  "
      ]
    },
    {
      "cell_type": "markdown",
      "metadata": {},
      "source": [
        "### Fikser sentrering av bokser"
      ]
    },
    {
      "cell_type": "code",
      "execution_count": 4,
      "metadata": {},
      "outputs": [
        {
          "data": {
            "text/plain": [
              "id\n",
              "0       1022.210\n",
              "1        984.505\n",
              "2        543.810\n",
              "3        474.105\n",
              "4        472.445\n",
              "          ...   \n",
              "5539      17.515\n",
              "5540      57.900\n",
              "5541      79.305\n",
              "5542     136.820\n",
              "5543     605.575\n",
              "Name: center_x_scaled, Length: 5544, dtype: float64"
            ]
          },
          "execution_count": 4,
          "metadata": {},
          "output_type": "execute_result"
        }
      ],
      "source": [
        "data = [[] for _ in range(4)]\n",
        "for index, row in dataset.df.iterrows():\n",
        "    xmin = min(row[\"ann_bbox_xmin\"], row[\"ann_bbox_xmax\"])\n",
        "    ymin = min(row[\"ann_bbox_ymin\"], row[\"ann_bbox_ymax\"])\n",
        "    data[0].append(xmin + (abs(row[\"ann_bbox_xmin\"] - row[\"ann_bbox_xmax\"])/2))\n",
        "    data[1].append(ymin + (abs(row[\"ann_bbox_ymin\"] - row[\"ann_bbox_ymax\"])/2))\n",
        "    data[2].append((abs(row[\"ann_bbox_xmin\"] - row[\"ann_bbox_xmax\"])))\n",
        "    data[3].append((abs(row[\"ann_bbox_ymin\"] - row[\"ann_bbox_ymax\"])))\n",
        "\n",
        "dataset.df[\"center_x_scaled\"] = data[0]\n",
        "dataset.df[\"center_y_scaled\"] = data[1]\n",
        "dataset.df[\"width_scaled\"] = data[2]\n",
        "dataset.df[\"height_scaled\"] = data[3]\n",
        "dataset.df[\"center_x_scaled\"]"
      ]
    },
    {
      "cell_type": "code",
      "execution_count": 5,
      "metadata": {},
      "outputs": [
        {
          "name": "stdout",
          "output_type": "stream",
          "text": [
            "                          img_folder  \\\n",
            "id                                     \n",
            "0   ../datasets/tdt4265/images/train   \n",
            "1   ../datasets/tdt4265/images/train   \n",
            "2   ../datasets/tdt4265/images/train   \n",
            "3   ../datasets/tdt4265/images/train   \n",
            "4   ../datasets/tdt4265/images/train   \n",
            "5   ../datasets/tdt4265/images/train   \n",
            "6   ../datasets/tdt4265/images/train   \n",
            "7   ../datasets/tdt4265/images/train   \n",
            "8   ../datasets/tdt4265/images/train   \n",
            "9   ../datasets/tdt4265/images/train   \n",
            "10  ../datasets/tdt4265/images/train   \n",
            "11  ../datasets/tdt4265/images/train   \n",
            "12  ../datasets/tdt4265/images/train   \n",
            "13  ../datasets/tdt4265/images/train   \n",
            "14  ../datasets/tdt4265/images/train   \n",
            "15  ../datasets/tdt4265/images/train   \n",
            "16  ../datasets/tdt4265/images/train   \n",
            "17  ../datasets/tdt4265/images/train   \n",
            "18  ../datasets/tdt4265/images/train   \n",
            "\n",
            "                                 img_filename img_path  img_id  img_width  \\\n",
            "id                                                                          \n",
            "0   images/val/trip007_glos_Video00003_54.png                1       1024   \n",
            "1   images/val/trip007_glos_Video00003_54.png                1       1024   \n",
            "2   images/val/trip007_glos_Video00003_54.png                1       1024   \n",
            "3   images/val/trip007_glos_Video00003_54.png                1       1024   \n",
            "4   images/val/trip007_glos_Video00003_54.png                1       1024   \n",
            "5   images/val/trip007_glos_Video00003_54.png                1       1024   \n",
            "6   images/val/trip007_glos_Video00003_54.png                1       1024   \n",
            "7   images/val/trip007_glos_Video00003_54.png                1       1024   \n",
            "8   images/val/trip007_glos_Video00003_54.png                1       1024   \n",
            "9   images/val/trip007_glos_Video00003_54.png                1       1024   \n",
            "10  images/val/trip007_glos_Video00003_54.png                1       1024   \n",
            "11  images/val/trip007_glos_Video00003_54.png                1       1024   \n",
            "12  images/val/trip007_glos_Video00003_54.png                1       1024   \n",
            "13  images/val/trip007_glos_Video00003_54.png                1       1024   \n",
            "14  images/val/trip007_glos_Video00003_54.png                1       1024   \n",
            "15  images/val/trip007_glos_Video00003_54.png                1       1024   \n",
            "16  images/val/trip007_glos_Video00003_54.png                1       1024   \n",
            "17  images/val/trip007_glos_Video00003_54.png                1       1024   \n",
            "18  images/val/trip007_glos_Video00003_54.png                1       1024   \n",
            "\n",
            "    img_height img_depth ann_segmented  ann_bbox_xmin  ann_bbox_ymin  ...  \\\n",
            "id                                                                    ...   \n",
            "0          128                                1020.42          65.40  ...   \n",
            "1          128                                 983.18          58.35  ...   \n",
            "2          128                                 534.86          68.97  ...   \n",
            "3          128                                 471.78          69.62  ...   \n",
            "4          128                                 469.35          69.90  ...   \n",
            "5          128                                 200.17          70.67  ...   \n",
            "6          128                                 655.96          85.03  ...   \n",
            "7          128                                 619.65          73.21  ...   \n",
            "8          128                                 649.07          76.02  ...   \n",
            "9          128                                 671.22          71.99  ...   \n",
            "10         128                                 386.64          68.47  ...   \n",
            "11         128                                   0.00          57.38  ...   \n",
            "12         128                                 344.93          66.55  ...   \n",
            "13         128                                 445.62          71.65  ...   \n",
            "14         128                                 345.33          63.79  ...   \n",
            "15         128                                  36.12          75.63  ...   \n",
            "16         128                                 889.96          92.88  ...   \n",
            "17         128                                 503.72          80.80  ...   \n",
            "18         128                                 545.66          68.73  ...   \n",
            "\n",
            "    ann_difficult  cat_id  cat_name  cat_supercategory  split annotated  \\\n",
            "id                                                                        \n",
            "0                       1       car                                   1   \n",
            "1                       7    person                                   1   \n",
            "2                       1       car                                   1   \n",
            "3                       8     rider                                   1   \n",
            "4                       8     rider                                   1   \n",
            "5                       7    person                                   1   \n",
            "6                       7    person                                   1   \n",
            "7                       7    person                                   1   \n",
            "8                       7    person                                   1   \n",
            "9                       7    person                                   1   \n",
            "10                      1       car                                   1   \n",
            "11                      1       car                                   1   \n",
            "12                      7    person                                   1   \n",
            "13                      8     rider                                   1   \n",
            "14                      7    person                                   1   \n",
            "15                      1       car                                   1   \n",
            "16                      1       car                                   1   \n",
            "17                      1       car                                   1   \n",
            "18                      7    person                                   1   \n",
            "\n",
            "    center_x_scaled center_y_scaled width_scaled height_scaled  \n",
            "id                                                              \n",
            "0          1022.210          71.615         3.58         12.43  \n",
            "1           984.505          64.830         2.65         12.96  \n",
            "2           543.810          76.440        17.90         14.94  \n",
            "3           474.105          73.380         4.65          7.52  \n",
            "4           472.445          76.185         6.19         12.57  \n",
            "5           206.615          96.560        12.89         51.78  \n",
            "6           661.420         106.365        10.92         42.67  \n",
            "7           624.525          96.820         9.75         47.22  \n",
            "8           654.510          99.450        10.88         46.86  \n",
            "9           676.285          99.995        10.13         56.01  \n",
            "10          394.220          73.410        15.16          9.88  \n",
            "11            4.800          67.420         9.60         20.08  \n",
            "12          347.680          78.820         5.50         24.54  \n",
            "13          450.155          78.695         9.07         14.09  \n",
            "14          347.445          70.060         4.23         12.54  \n",
            "15           65.725          99.890        59.21         48.52  \n",
            "16          931.775         109.340        83.63         32.92  \n",
            "17          525.810         104.400        44.18         47.20  \n",
            "18          547.170          75.375         3.02         13.29  \n",
            "\n",
            "[19 rows x 29 columns]\n"
          ]
        }
      ],
      "source": [
        "img_id = 1 #0\n",
        "selected_image_df = dataset.df.loc[dataset.df['img_id'] == img_id]\n",
        "print(selected_image_df)"
      ]
    },
    {
      "cell_type": "code",
      "execution_count": 6,
      "metadata": {},
      "outputs": [
        {
          "name": "stdout",
          "output_type": "stream",
          "text": [
            "1024 128\n"
          ]
        },
        {
          "name": "stderr",
          "output_type": "stream",
          "text": [
            "[ WARN:0@1.385] global /io/opencv/modules/imgcodecs/src/loadsave.cpp (239) findDecoder imread_('../datasets/tdt4265/images/val/trip007_glos_Video00003_54.png'): can't open/read file: check file path/integrity\n"
          ]
        },
        {
          "ename": "error",
          "evalue": "OpenCV(4.5.5) /io/opencv/modules/imgcodecs/src/loadsave.cpp:801: error: (-215:Assertion failed) !_img.empty() in function 'imwrite'\n",
          "output_type": "error",
          "traceback": [
            "\u001b[0;31m---------------------------------------------------------------------------\u001b[0m",
            "\u001b[0;31merror\u001b[0m                                     Traceback (most recent call last)",
            "\u001b[1;32m/home/martijni/project/YOLO/data_preparation/coco2yolov5.ipynb Cell 14'\u001b[0m in \u001b[0;36m<cell line: 22>\u001b[0;34m()\u001b[0m\n\u001b[1;32m     <a href='vscode-notebook-cell://ssh-remote%2Boppdal.idi.ntnu.no/home/martijni/project/YOLO/data_preparation/coco2yolov5.ipynb#ch0000012vscode-remote?line=19'>20</a>\u001b[0m     h \u001b[39m=\u001b[39m \u001b[39mint\u001b[39m(row[\u001b[39m\"\u001b[39m\u001b[39mann_bbox_ymax\u001b[39m\u001b[39m\"\u001b[39m])\n\u001b[1;32m     <a href='vscode-notebook-cell://ssh-remote%2Boppdal.idi.ntnu.no/home/martijni/project/YOLO/data_preparation/coco2yolov5.ipynb#ch0000012vscode-remote?line=20'>21</a>\u001b[0m     cv2\u001b[39m.\u001b[39mrectangle(img, (x, y), (w, h), (\u001b[39m0\u001b[39m, \u001b[39m0\u001b[39m, \u001b[39m255\u001b[39m), \u001b[39m2\u001b[39m)\n\u001b[0;32m---> <a href='vscode-notebook-cell://ssh-remote%2Boppdal.idi.ntnu.no/home/martijni/project/YOLO/data_preparation/coco2yolov5.ipynb#ch0000012vscode-remote?line=21'>22</a>\u001b[0m cv2\u001b[39m.\u001b[39;49mimwrite(\u001b[39mf\u001b[39;49m\u001b[39m\"\u001b[39;49m\u001b[39m./labeled_im\u001b[39;49m\u001b[39m{\u001b[39;49;00mimg_id\u001b[39m}\u001b[39;49;00m\u001b[39m.png\u001b[39;49m\u001b[39m\"\u001b[39;49m, img)\n",
            "\u001b[0;31merror\u001b[0m: OpenCV(4.5.5) /io/opencv/modules/imgcodecs/src/loadsave.cpp:801: error: (-215:Assertion failed) !_img.empty() in function 'imwrite'\n"
          ]
        }
      ],
      "source": [
        "import cv2\n",
        "import os\n",
        "\n",
        "# Open and resize image\n",
        "img = cv2.imread(os.path.join(dataset_path, selected_image_df[\"img_filename\"][0]))\n",
        "WIDTH = selected_image_df[\"img_width\"][0]\n",
        "HEIGHT = selected_image_df[\"img_height\"][0]\n",
        "print(WIDTH, HEIGHT)\n",
        "\n",
        "# Print bounding boxes\n",
        "for index, row in selected_image_df.iterrows():\n",
        "    # x = int(row[\"center_x_scaled\"]*WIDTH-row[\"width_scaled\"]*WIDTH/2)\n",
        "    # y = int(row[\"center_y_scaled\"]*HEIGHT-row[\"height_scaled\"]*HEIGHT/2)\n",
        "    # w = int(row[\"width_scaled\"]*WIDTH)\n",
        "    # h = int(row[\"height_scaled\"]*HEIGHT)\n",
        "    # cv2.rectangle(img, (x, y), (x+w, y+h), (0, 0, 255), 2)\n",
        "    x = int(row[\"ann_bbox_xmin\"])\n",
        "    y = int(row[\"ann_bbox_ymin\"])\n",
        "    w = int(row[\"ann_bbox_xmax\"])\n",
        "    h = int(row[\"ann_bbox_ymax\"])\n",
        "    cv2.rectangle(img, (x, y), (w, h), (0, 0, 255), 2)\n",
        "cv2.imwrite(f\"./labeled_im{img_id}.png\", img)"
      ]
    },
    {
      "cell_type": "code",
      "execution_count": null,
      "metadata": {},
      "outputs": [],
      "source": [
        "dataset.df.head(5)"
      ]
    },
    {
      "cell_type": "markdown",
      "metadata": {},
      "source": [
        "# Export to Yolo v5\n",
        "The PyLabel exporter will export all of the annotations in the dataframe to the desired target format.\n",
        "Yolo creates one text file for each image in the dataset. "
      ]
    },
    {
      "cell_type": "code",
      "execution_count": null,
      "metadata": {},
      "outputs": [],
      "source": [
        "dataset.export.ExportToYoloV5(output_path=\"labels/\")"
      ]
    }
  ],
  "metadata": {
    "colab": {
      "collapsed_sections": [],
      "name": "import2.ipynb",
      "provenance": []
    },
    "interpreter": {
      "hash": "de5e368ab5494158da905fb8b1c2e4fef8844fbfaace7cceca0beab983df3a80"
    },
    "kernelspec": {
      "display_name": "Python 3.8.5 64-bit ('penv': venv)",
      "name": "python3"
    },
    "language_info": {
      "codemirror_mode": {
        "name": "ipython",
        "version": 3
      },
      "file_extension": ".py",
      "mimetype": "text/x-python",
      "name": "python",
      "nbconvert_exporter": "python",
      "pygments_lexer": "ipython3",
      "version": "3.8.10"
    }
  },
  "nbformat": 4,
  "nbformat_minor": 2
}
