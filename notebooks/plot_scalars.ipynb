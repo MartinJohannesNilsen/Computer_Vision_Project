{
 "cells": [
  {
   "cell_type": "code",
   "execution_count": 1,
   "metadata": {},
   "outputs": [],
   "source": [
    "import sys, os\n",
    "sys.path.append(os.path.dirname(os.getcwd())) # Include ../SSD in path\n",
    "import tops\n",
    "import matplotlib.pyplot as plt\n",
    "import pathlib\n",
    "from ssd.utils import load_config"
   ]
  },
  {
   "cell_type": "code",
   "execution_count": 2,
   "metadata": {},
   "outputs": [],
   "source": [
    "#cfg = load_config(\"../configs/task2_2_iter5.py\")\n",
    "logs = [tops.logger.read_logs(pathlib.Path(\"../outputs/task2_2_iter0\")), \n",
    "        tops.logger.read_logs(pathlib.Path(\"../outputs/task2_2_iter5\"))]"
   ]
  },
  {
   "cell_type": "code",
   "execution_count": 3,
   "metadata": {},
   "outputs": [
    {
     "name": "stdout",
     "output_type": "stream",
     "text": [
      "[{'amp/grad_scale': 32768.0, 'global_step': 0}, {'loss/regression_loss': 2.8988845348358154, 'loss/classification_loss': 9.245205879211426, 'loss/total_loss': 12.14409065246582, 'global_step': 0}, {'amp/grad_scale': 16384.0, 'global_step': 1}, {'stats/learning_rate': 0.000509, 'global_step': 2}, {'stats/learning_rate': 0.000518, 'global_step': 3}, {'stats/learning_rate': 0.000527, 'global_step': 4}, {'stats/learning_rate': 0.000536, 'global_step': 5}, {'stats/learning_rate': 0.000545, 'global_step': 6}, {'stats/learning_rate': 0.000554, 'global_step': 7}, {'stats/learning_rate': 0.000563, 'global_step': 8}]\n"
     ]
    }
   ],
   "source": [
    "# The log is formatted as a list of dictionaries\n",
    "print(logs[0][:10])"
   ]
  },
  {
   "cell_type": "code",
   "execution_count": 4,
   "metadata": {},
   "outputs": [],
   "source": [
    "# We are saving logs to disk every 10th iteration, thus we need to filter out all entries without a loss\n",
    "loss_entries = []\n",
    "mAP_entries = []\n",
    "for log in logs:\n",
    "    loss_entries.append([entry for entry in log if \"loss/total_loss\" in entry])\n",
    "    mAP_entries.append([entry for entry in log if \"metrics/mAP\" in entry])"
   ]
  },
  {
   "cell_type": "code",
   "execution_count": 7,
   "metadata": {},
   "outputs": [],
   "source": [
    "LOSS = True"
   ]
  },
  {
   "cell_type": "code",
   "execution_count": 8,
   "metadata": {},
   "outputs": [
    {
     "data": {
      "text/plain": [
       "Text(0.5, 0, 'Global step (number of batches trained on)')"
      ]
     },
     "execution_count": 8,
     "metadata": {},
     "output_type": "execute_result"
    },
    {
     "data": {
      "image/png": "[encoded data removed]",
      "text/plain": [
       "<Figure size 432x288 with 1 Axes>"
      ]
     },
     "metadata": {
      "needs_background": "light"
     },
     "output_type": "display_data"
    }
   ],
   "source": [
    "if LOSS:\n",
    "    for loss_entry in loss_entries:\n",
    "        plt.plot([entry[\"global_step\"] for entry in loss_entry], [entry[\"loss/total_loss\"] for entry in loss_entry])\n",
    "    plt.ylabel(\"Total loss\")\n",
    "        \n",
    "else:\n",
    "    for mAP_entry in mAP_entries:\n",
    "        plt.plot([entry[\"global_step\"] for entry in mAP_entry], [entry[\"metrics/mAP\"] for entry in mAP_entry])\n",
    "    plt.ylabel(\"COCO mAP@0.5:0.95\")\n",
    "plt.xlabel(\"Global step (number of batches trained on)\")"
   ]
  },
  {
   "cell_type": "code",
   "execution_count": null,
   "metadata": {},
   "outputs": [],
   "source": []
  }
 ],
 "metadata": {
  "kernelspec": {
   "display_name": "Python 3 (ipykernel)",
   "language": "python",
   "name": "python3"
  },
  "language_info": {
   "codemirror_mode": {
    "name": "ipython",
    "version": 3
   },
   "file_extension": ".py",
   "mimetype": "text/x-python",
   "name": "python",
   "nbconvert_exporter": "python",
   "pygments_lexer": "ipython3",
   "version": "3.8.9"
  }
 },
 "nbformat": 4,
 "nbformat_minor": 4
}
